{
  "nbformat": 4,
  "nbformat_minor": 0,
  "metadata": {
    "colab": {
      "name": "02_TuningCurves.ipynb",
      "provenance": [],
      "collapsed_sections": [],
      "include_colab_link": true
    },
    "kernelspec": {
      "name": "python3",
      "display_name": "Python 3"
    },
    "language_info": {
      "name": "python"
    }
  },
  "cells": [
    {
      "cell_type": "markdown",
      "metadata": {
        "id": "view-in-github",
        "colab_type": "text"
      },
      "source": [
        "<a href=\"https://colab.research.google.com/github/ebatty/EncodingDecodingNotes/blob/main/Notes/02_TuningCurves.ipynb\" target=\"_parent\"><img src=\"https://colab.research.google.com/assets/colab-badge.svg\" alt=\"Open In Colab\"/></a>"
      ]
    },
    {
      "cell_type": "markdown",
      "metadata": {
        "id": "ZyrCnMGfO8QR"
      },
      "source": [
        "# 02 -  Tuning Curves\n",
        "\n"
      ]
    },
    {
      "cell_type": "code",
      "metadata": {
        "cellView": "form",
        "id": "c8AiLm6tS2Rt"
      },
      "source": [
        "# @markdown Imports\n",
        "import numpy as np\n",
        "import matplotlib\n",
        "matplotlib.rcParams.update({'font.size': 18})\n",
        "import matplotlib.pyplot as plt"
      ],
      "execution_count": null,
      "outputs": []
    },
    {
      "cell_type": "markdown",
      "source": [
        "# Section 3: Tuning curves\n"
      ],
      "metadata": {
        "id": "Ap-FnLoFQIps"
      }
    },
    {
      "cell_type": "markdown",
      "metadata": {
        "id": "SZayDGlQzMh_"
      },
      "source": [
        "## Section 3.1: Plotting tuning curves\n",
        "\n",
        "We can summarize how the neuron responds to different reach directions by creating a tuning curve. We want to plot the average firing rate of the neuron for each reach direction vs the reach direction.  "
      ]
    },
    {
      "cell_type": "markdown",
      "metadata": {
        "id": "VVyMTxHjzhPq"
      },
      "source": [
        "**Stop and think!** How could we get the average firing rate of the neuron for a certain reach?\n",
        "\n",
        "First, we choose some time window around reach onset. We then count up the spikes over all trials in that time window and divide by both the number of trials and the length of the time window to get firing rate in terms of spikes per second. "
      ]
    },
    {
      "cell_type": "code",
      "metadata": {
        "id": "jUccpRd3WDG3",
        "colab": {
          "base_uri": "https://localhost:8080/",
          "height": 350
        },
        "cellView": "form",
        "outputId": "2585cae3-7a76-4e51-ac5b-437b2b51923b"
      },
      "source": [
        "# @markdown\n",
        "\n",
        "i_angle = 4\n",
        "fig, ax = plt.subplots(1, 1, figsize=(12, 5), sharex=True, sharey = True)\n",
        "\n",
        "ax.eventplot(reach_sp_times[i_angle], colors = 'black')\n",
        "ax.plot([750, 750], [0, 10], 'b')\n",
        "ax.plot([500, 500], [0, 10], 'r')\n",
        "ax.plot([1000, 1000], [0, 10], 'r')\n",
        "ax.set(xlabel = 'Time (ms)', \n",
        "    ylabel = 'Trial Number',\n",
        "    ylim = [-.7, 10.7],\n",
        "    yticks = np.arange(0, 10, 2),\n",
        "    yticklabels = np.arange(1, 11, 2),\n",
        "    title = f'{angles[i_angle]} degrees');\n"
      ],
      "execution_count": null,
      "outputs": [
        {
          "output_type": "display_data",
          "data": {
            "image/png": "[encoded data removed]",
            "text/plain": [
              "<Figure size 864x360 with 1 Axes>"
            ]
          },
          "metadata": {
            "needs_background": "light"
          }
        }
      ]
    },
    {
      "cell_type": "markdown",
      "metadata": {
        "id": "bMuSiwEL0WO2"
      },
      "source": [
        "*Figure 7: Raster plot for reaches to 180 degrees. The blue vertical line indicates the start of the reach, the red vertical lines indicate start and end of time window for computing average firing rate* "
      ]
    },
    {
      "cell_type": "markdown",
      "source": [
        "For this data, we will choose a 500 ms time window: 250 ms before reach onset and 250 ms after. In Figure 7, the raster plot of reaches to 180 degrees, the beginning and end of this time window are shown with red vertical lines. In this 500 ms time bin, 287 spikes occur over the 10 trials. So the average firing rate is 287 spikes / .5 s / 10 trials = 57.4 spikes per second.\n",
        "\n",
        "We can repeat this computation for all reach directions and plot our tuning curve (firing rate vs reach direction), as seen in Figure 8."
      ],
      "metadata": {
        "id": "sX9fkXfcO7Fd"
      }
    },
    {
      "cell_type": "markdown",
      "source": [
        "**coding challenge**"
      ],
      "metadata": {
        "id": "ZjRXrGaoRMQo"
      }
    },
    {
      "cell_type": "code",
      "metadata": {
        "id": "AijPJaMxRF8k",
        "colab": {
          "base_uri": "https://localhost:8080/",
          "height": 337
        },
        "cellView": "form",
        "outputId": "fc771a93-249e-4a8c-be58-9880d519232f"
      },
      "source": [
        "# @markdown\n",
        "\n",
        "# Compute tuning curve data\n",
        "av_firing_rate = np.zeros((len(angles),))\n",
        "for i_angle in range(len(angles)):\n",
        "  all_sp_times = np.concatenate(reach_sp_times[i_angle])\n",
        "  sp_count = ((all_sp_times > 500) & (all_sp_times < 1000)).sum()\n",
        "  av_firing_rate[i_angle] = sp_count / .5 / n_trials\n",
        "\n",
        "# Visualize \n",
        "fig, ax = plt.subplots(1, 1, figsize=(12, 5), sharex=True, sharey = True)\n",
        "ax.plot(angles, av_firing_rate, 'ok')\n",
        "ax.set(xlabel = 'Angle of reach (degrees)',\n",
        "       ylabel = 'Firing rate (Hz)');"
      ],
      "execution_count": null,
      "outputs": [
        {
          "output_type": "display_data",
          "data": {
            "image/png": "[encoded data removed]",
            "text/plain": [
              "<Figure size 864x360 with 1 Axes>"
            ]
          },
          "metadata": {
            "needs_background": "light"
          }
        }
      ]
    },
    {
      "cell_type": "markdown",
      "metadata": {
        "id": "4KPxEQfr2By4"
      },
      "source": [
        "*Figure 8: A tuning curve showing the average firing rate of the neuron to each reach direction.* "
      ]
    },
    {
      "cell_type": "markdown",
      "source": [
        "## Section 3.2: Parameterizing tuning curves"
      ],
      "metadata": {
        "id": "2VLzYgI_QUcT"
      }
    },
    {
      "cell_type": "markdown",
      "metadata": {
        "id": "O6-RMO3e2I6F"
      },
      "source": [
        "As you can see from Figure 8, this plot of firing rate vs reach direction quickly helps us see the \"tuning\" of the neuron, or how it's response varies across reach directions. This neuron is responding the most to degrees around 180, with smaller responses to higher and lower angles of reach. \n",
        "\n",
        "We can summarize this information even more efficiently by doing some curve fitting. It turns out that the tuning of motor cortex neurons can be described well with a cosine curve. In particular, we can model the firing rate for each angle as:\n",
        "\n",
        "$$f(a) = r_0 + (r_{max} - r_0) cos(a - a_{max})$$\n",
        "\n",
        "$a$: reaching angle\n",
        "\n",
        "$a_{max}$: reaching angle associated with highest response\n",
        "\n",
        "$r_{max}$: maximum response\n",
        "\n",
        "$r_0$: offset or background firing rate\n",
        "\n",
        "We fit this equation for a particular neuron by finding the values of $a_{max}$, $r_{max}$, and $r_0$ that match this curve closely to the data points. We can then quickly summarize the tuning of each neuron with these fitted parameters."
      ]
    },
    {
      "cell_type": "code",
      "source": [
        ""
      ],
      "metadata": {
        "id": "luz2o70qQAjD"
      },
      "execution_count": null,
      "outputs": []
    }
  ]
}