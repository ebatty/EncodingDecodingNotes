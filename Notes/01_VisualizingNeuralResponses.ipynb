{
  "nbformat": 4,
  "nbformat_minor": 0,
  "metadata": {
    "colab": {
      "name": "01_VisualizingNeuralResponses.ipynb",
      "provenance": [],
      "collapsed_sections": [],
      "include_colab_link": true
    },
    "kernelspec": {
      "name": "python3",
      "display_name": "Python 3"
    },
    "language_info": {
      "name": "python"
    },
    "widgets": {
      "application/vnd.jupyter.widget-state+json": {
        "11d0de07088f4ba5a6b6dcfbe40ecf73": {
          "model_module": "@jupyter-widgets/controls",
          "model_name": "VBoxModel",
          "model_module_version": "1.5.0",
          "state": {
            "_view_name": "VBoxView",
            "_dom_classes": [
              "widget-interact"
            ],
            "_model_name": "VBoxModel",
            "_view_module": "@jupyter-widgets/controls",
            "_model_module_version": "1.5.0",
            "_view_count": null,
            "_view_module_version": "1.5.0",
            "box_style": "",
            "layout": "IPY_MODEL_3ea37170b9b94e1899805bf404204053",
            "_model_module": "@jupyter-widgets/controls",
            "children": [
              "IPY_MODEL_2f56a64a4de449d8930901bb4a744da7",
              "IPY_MODEL_ab4722ffce2e430e91bcf613f5ae84d4"
            ]
          }
        },
        "3ea37170b9b94e1899805bf404204053": {
          "model_module": "@jupyter-widgets/base",
          "model_name": "LayoutModel",
          "model_module_version": "1.2.0",
          "state": {
            "_view_name": "LayoutView",
            "grid_template_rows": null,
            "right": null,
            "justify_content": null,
            "_view_module": "@jupyter-widgets/base",
            "overflow": null,
            "_model_module_version": "1.2.0",
            "_view_count": null,
            "flex_flow": null,
            "width": null,
            "min_width": null,
            "border": null,
            "align_items": null,
            "bottom": null,
            "_model_module": "@jupyter-widgets/base",
            "top": null,
            "grid_column": null,
            "overflow_y": null,
            "overflow_x": null,
            "grid_auto_flow": null,
            "grid_area": null,
            "grid_template_columns": null,
            "flex": null,
            "_model_name": "LayoutModel",
            "justify_items": null,
            "grid_row": null,
            "max_height": null,
            "align_content": null,
            "visibility": null,
            "align_self": null,
            "height": null,
            "min_height": null,
            "padding": null,
            "grid_auto_rows": null,
            "grid_gap": null,
            "max_width": null,
            "order": null,
            "_view_module_version": "1.2.0",
            "grid_template_areas": null,
            "object_position": null,
            "object_fit": null,
            "grid_auto_columns": null,
            "margin": null,
            "display": null,
            "left": null
          }
        },
        "2f56a64a4de449d8930901bb4a744da7": {
          "model_module": "@jupyter-widgets/controls",
          "model_name": "IntSliderModel",
          "model_module_version": "1.5.0",
          "state": {
            "_view_name": "IntSliderView",
            "style": "IPY_MODEL_ff6b14309bd940b5954dd77d0504252c",
            "_dom_classes": [],
            "description": "Bin width",
            "step": 1,
            "_model_name": "IntSliderModel",
            "orientation": "horizontal",
            "max": 100,
            "_view_module": "@jupyter-widgets/controls",
            "_model_module_version": "1.5.0",
            "value": 10,
            "_view_count": null,
            "disabled": false,
            "_view_module_version": "1.5.0",
            "min": 1,
            "continuous_update": true,
            "readout_format": "d",
            "description_tooltip": null,
            "readout": true,
            "_model_module": "@jupyter-widgets/controls",
            "layout": "IPY_MODEL_c813255ba2b54c41a1e4301e9971d8ad"
          }
        },
        "ab4722ffce2e430e91bcf613f5ae84d4": {
          "model_module": "@jupyter-widgets/output",
          "model_name": "OutputModel",
          "model_module_version": "1.0.0",
          "state": {
            "_view_name": "OutputView",
            "msg_id": "",
            "_dom_classes": [],
            "_model_name": "OutputModel",
            "outputs": [
              {
                "output_type": "display_data",
                "data": {
                  "image/png": "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\n",
                  "text/plain": "<Figure size 864x504 with 2 Axes>"
                },
                "metadata": {
                  "needs_background": "light"
                }
              }
            ],
            "_view_module": "@jupyter-widgets/output",
            "_model_module_version": "1.0.0",
            "_view_count": null,
            "_view_module_version": "1.0.0",
            "layout": "IPY_MODEL_89653a1a68f24147a4b6e96608236af3",
            "_model_module": "@jupyter-widgets/output"
          }
        },
        "ff6b14309bd940b5954dd77d0504252c": {
          "model_module": "@jupyter-widgets/controls",
          "model_name": "SliderStyleModel",
          "model_module_version": "1.5.0",
          "state": {
            "_view_name": "StyleView",
            "handle_color": null,
            "_model_name": "SliderStyleModel",
            "description_width": "",
            "_view_module": "@jupyter-widgets/base",
            "_model_module_version": "1.5.0",
            "_view_count": null,
            "_view_module_version": "1.2.0",
            "_model_module": "@jupyter-widgets/controls"
          }
        },
        "c813255ba2b54c41a1e4301e9971d8ad": {
          "model_module": "@jupyter-widgets/base",
          "model_name": "LayoutModel",
          "model_module_version": "1.2.0",
          "state": {
            "_view_name": "LayoutView",
            "grid_template_rows": null,
            "right": null,
            "justify_content": null,
            "_view_module": "@jupyter-widgets/base",
            "overflow": null,
            "_model_module_version": "1.2.0",
            "_view_count": null,
            "flex_flow": null,
            "width": null,
            "min_width": null,
            "border": null,
            "align_items": null,
            "bottom": null,
            "_model_module": "@jupyter-widgets/base",
            "top": null,
            "grid_column": null,
            "overflow_y": null,
            "overflow_x": null,
            "grid_auto_flow": null,
            "grid_area": null,
            "grid_template_columns": null,
            "flex": null,
            "_model_name": "LayoutModel",
            "justify_items": null,
            "grid_row": null,
            "max_height": null,
            "align_content": null,
            "visibility": null,
            "align_self": null,
            "height": null,
            "min_height": null,
            "padding": null,
            "grid_auto_rows": null,
            "grid_gap": null,
            "max_width": null,
            "order": null,
            "_view_module_version": "1.2.0",
            "grid_template_areas": null,
            "object_position": null,
            "object_fit": null,
            "grid_auto_columns": null,
            "margin": null,
            "display": null,
            "left": null
          }
        },
        "89653a1a68f24147a4b6e96608236af3": {
          "model_module": "@jupyter-widgets/base",
          "model_name": "LayoutModel",
          "model_module_version": "1.2.0",
          "state": {
            "_view_name": "LayoutView",
            "grid_template_rows": null,
            "right": null,
            "justify_content": null,
            "_view_module": "@jupyter-widgets/base",
            "overflow": null,
            "_model_module_version": "1.2.0",
            "_view_count": null,
            "flex_flow": null,
            "width": null,
            "min_width": null,
            "border": null,
            "align_items": null,
            "bottom": null,
            "_model_module": "@jupyter-widgets/base",
            "top": null,
            "grid_column": null,
            "overflow_y": null,
            "overflow_x": null,
            "grid_auto_flow": null,
            "grid_area": null,
            "grid_template_columns": null,
            "flex": null,
            "_model_name": "LayoutModel",
            "justify_items": null,
            "grid_row": null,
            "max_height": null,
            "align_content": null,
            "visibility": null,
            "align_self": null,
            "height": null,
            "min_height": null,
            "padding": null,
            "grid_auto_rows": null,
            "grid_gap": null,
            "max_width": null,
            "order": null,
            "_view_module_version": "1.2.0",
            "grid_template_areas": null,
            "object_position": null,
            "object_fit": null,
            "grid_auto_columns": null,
            "margin": null,
            "display": null,
            "left": null
          }
        }
      }
    }
  },
  "cells": [
    {
      "cell_type": "markdown",
      "metadata": {
        "id": "view-in-github",
        "colab_type": "text"
      },
      "source": [
        "<a href=\"https://colab.research.google.com/github/ebatty/EncodingDecodingNotes/blob/main/Notes/01_VisualizingNeuralResponses.ipynb\" target=\"_parent\"><img src=\"https://colab.research.google.com/assets/colab-badge.svg\" alt=\"Open In Colab\"/></a>"
      ]
    },
    {
      "cell_type": "markdown",
      "metadata": {
        "id": "ZyrCnMGfO8QR"
      },
      "source": [
        "# 01 - Visualizing Neural Responses\n",
        "\n"
      ]
    },
    {
      "cell_type": "code",
      "metadata": {
        "cellView": "form",
        "id": "c8AiLm6tS2Rt",
        "pycharm": {
          "name": "#%%\n"
        }
      },
      "source": [
        "# @markdown Imports\n",
        "import numpy as np\n",
        "import matplotlib\n",
        "matplotlib.rcParams.update({'font.size': 18})\n",
        "import matplotlib.pyplot as plt\n",
        "import ipywidgets as widgets "
      ],
      "execution_count": 12,
      "outputs": []
    },
    {
      "cell_type": "markdown",
      "metadata": {
        "id": "5zxAYk02PiXv",
        "pycharm": {
          "name": "#%% md\n"
        }
      },
      "source": [
        "## Section 1: Experimental set-up\n",
        "\n",
        "In the next few sections, we will cover important concepts in the context of a case study. In this case study, you are a computational neuroscientist and you have a hypothesis that some neurons in monkey motor cortex correlate with the direction of arm movement while reaching. By this, you mean that a particular neuron will fire more when the monkey reaches in certain directions than others.  \n",
        "\n",
        "You are able to record the spike times of a neuron from motor cortex in a monkey. \n"
      ]
    },
    {
      "cell_type": "markdown",
      "metadata": {
        "id": "8VoGLa9bOIfQ"
      },
      "source": [
        "**Stop and think!** What do you want the experiment to look like?\n",
        "\n",
        "\n",
        "You choose an experimental set-up which will allow pretty easy analysis of the data. You have a monkey reach in eight different directions while recording from the neuron. Importantly, you have the monkey reach in each direction numerous times, not just once. You record the time the reach is initiated, perhaps by having the monkey hold onto a joystick with a sensor in it until they reach (the sensor can automatically record when the monkey lets go).\n"
      ]
    },
    {
      "cell_type": "markdown",
      "metadata": {
        "id": "7GqfWM0fOFHm"
      },
      "source": [
        "This is a typical experimental protocol in neuroscience: recording the spike times of a neuron while presenting the same stimulus over and over, or having the animal perform the same behavior over and over. Each presentation of the stimulus or iteration of the behavior is called a **trial**. Neurons are noisy - they do not respond exactly the same way every time they see the same stimulus or behavior - collecting multiple trials of data helps us better understand the neural responses and see how variable they are.\n",
        "\n",
        "You go ahead and perform your experiment and collect a bunch of data. You now have the spike times of the neuron during multiple reachs in the same direction (and you have this for 8 different directions)."
      ]
    },
    {
      "cell_type": "markdown",
      "source": [
        "**Stop and think!** What should you do next?\n",
        "\n",
        "\n",
        "The very first thing you should do when you collect new data or receive data from someone else is visualize it! The importance of this step cannot be overemphasized."
      ],
      "metadata": {
        "id": "bUxQSw0_M2nb"
      }
    },
    {
      "cell_type": "markdown",
      "metadata": {
        "id": "5McS2n4nVMDM"
      },
      "source": [
        "## Section 2: Raster plots\n",
        "\n",
        "\n",
        "\n"
      ]
    },
    {
      "cell_type": "markdown",
      "metadata": {
        "id": "KcLTYTAPIihJ"
      },
      "source": [
        "An excellent and common way to visualize neural spiking in multiple trials is a **raster plot**, an example of which can be found in Figure 1. In this style of plot, time is represented on the x-axis. Each spike is represented by a vertical line at the time it occurs. Each row (y-axis) can be a separate trial - in this case the raster plot displays a single neuron's responses over multiple trials and can be used to quickly assess response variability. Note that the timing of each trial needs to be synced. In other words, the stimulus onset, or event onset, should happen at the same time in each trial. \n",
        "\n",
        "\n"
      ]
    },
    {
      "cell_type": "markdown",
      "metadata": {
        "id": "YjSCtmePM5Wg"
      },
      "source": [
        "<img src=\"https://github.com/ebatty/EncodingDecodingNotes/blob/main/images/Putnametal.png?raw=True\"  width=\"600\">\n",
        "\n",
        "\n",
        "*Figure 1: An example raster plot, adapted from [Putnam and Gothard, eNeuro 2019](https://www.eneuro.org/content/6/5/ENEURO.0153-19.2019), under [CC-BY 4.0](https://creativecommons.org/licenses/by/4.0/)*\n"
      ]
    },
    {
      "cell_type": "markdown",
      "source": [
        "The raster in Figure 1, adapted from [Putnam and Gothard, eNeuro 2019](https://www.eneuro.org/content/6/5/ENEURO.0153-19.2019), shows neural data from monkey amygdala, recorded while the monkey repeatedly watches a video. The red lines indicate the onset and offset of the video."
      ],
      "metadata": {
        "id": "_fm9iY0WJR_p"
      }
    },
    {
      "cell_type": "markdown",
      "metadata": {
        "id": "FNC529OCMsHp"
      },
      "source": [
        "**Stop and think!** What can you infer about the neuron shown in Figure 1?\n",
        "\n",
        "From the raster in Figure 1, you can see that the neuron responds to video onset and video offset, because it increases its firing rate shortly after both."
      ]
    },
    {
      "cell_type": "markdown",
      "metadata": {
        "id": "hxTEA5Y8LvEO"
      },
      "source": [
        "Instead of the raster showing one neuron over multiple trials, it can display a population of neuron's responses, where each row shows the responses of a single neuron.  See Figure 3 for an example of this. This figure, from [Ito et al, PLoS ONE 2014](https://journals.plos.org/plosone/article?id=10.1371/journal.pone.0105324), represents the spiking responses of simultaneously recorded neurons in cortico-hippocampal brain slices from mice. In this data, there are no trials, this is just recordings over a period of time."
      ]
    },
    {
      "cell_type": "markdown",
      "metadata": {
        "id": "clamBZwCQOb9"
      },
      "source": [
        "<img src=\"https://github.com/ebatty/EncodingDecodingNotes/blob/main/images/Itoetal.png?raw=True\"  width=\"600\" alt=\"rasterplotexample1\">\n",
        "\n",
        "*Figure 2: A raster plot with rows as different neurons, from [Ito et al, PLoS ONE 2014](https://journals.plos.org/plosone/article?id=10.1371/journal.pone.0105324), under [CC-BY 4.0](https://creativecommons.org/licenses/by/4.0/)*"
      ]
    },
    {
      "cell_type": "markdown",
      "metadata": {
        "id": "2AL84eP-Qk-c"
      },
      "source": [
        "**Stop and think!** What can you conclude about the neurons recorded in cortico-hippocampal slices shown in Figure 2?\n",
        "\n",
        "\n",
        "From the raster in Figure 2, you can conclude that the neurons in the population are synchronized: there are periods of time when all neurons are spiking (indicated by red arrows), and periods of time when all neurons are silent."
      ]
    },
    {
      "cell_type": "markdown",
      "source": [
        "**Coding Corner!** Plotting rasters in Python\n",
        "\n",
        "We can create raster plots in matplotlib by using [`plt.eventplot`](https://matplotlib.org/stable/api/_as_gen/matplotlib.pyplot.eventplot.html). \n",
        "\n",
        "The first argument is a list of arrays, where each array contains the spike times for that row of the raster. For example, if you are plotting multiple trials of one neuron, each array would contain the spike times of one trial. \n",
        "\n",
        "For example, in the raster plot created below, we have neural data for 5 trials for 100 ms per trial. The neuron spiked at 17.82 milliseconds, 36.63 ms, 51.48 ms, 55.41 ms, and 91.74 ms in trial 1. In trial 2, it spiked at 4.62 ms, 39.27 ms, 52.47 ms, 58.41 ms, and 92.4 ms.\n",
        "\n",
        "\n"
      ],
      "metadata": {
        "id": "3JdI5qfazz6m"
      }
    },
    {
      "cell_type": "code",
      "source": [
        "n_trials = 5\n",
        "trial_length = 100 # ms\n",
        "\n",
        "# Set up spike time data\n",
        "all_sp_time_list = [np.array([17.82, 36.63, 51.48, 55.11, 91.74]),\n",
        "                    np.array([ 4.62, 39.27, 52.47, 58.41, 92.4]),\n",
        "                    np.array([28.38, 34.98, 43.56, 46.86, 89.1]),\n",
        "                    np.array([29.37, 39.27, 42.57, 47.85, 86.79]),\n",
        "                    np.array([ 1.32, 27.06, 34.98, 43.56, 55.77, 92.4])]\n",
        "\n",
        "# Make raster of this data\n",
        "fig, ax = plt.subplots(1, 1, figsize=(12, 4))\n",
        "ax.eventplot(all_sp_time_list, colors = 'black')\n",
        "\n",
        "# Label x and y axes (with units!)\n",
        "ax.set(xlabel = 'Time (ms)', \n",
        "       ylabel = 'Trial Number',\n",
        "       xlim = [0, trial_length],\n",
        "       ylim = [-.7, 4.7],\n",
        "       yticks = [0, 1, 2, 3, 4],\n",
        "       yticklabels = [1, 2, 3, 4, 5]);"
      ],
      "metadata": {
        "colab": {
          "base_uri": "https://localhost:8080/",
          "height": 279
        },
        "id": "7dKIqFoP0N0L",
        "outputId": "fbea8c74-6ed8-49b0-a21e-0cb7e040d9bc",
        "pycharm": {
          "name": "#%%\n"
        }
      },
      "execution_count": 2,
      "outputs": [
        {
          "output_type": "display_data",
          "data": {
            "image/png": "[encoded data removed]",
            "text/plain": [
              "<Figure size 864x288 with 1 Axes>"
            ]
          },
          "metadata": {
            "needs_background": "light"
          }
        }
      ]
    },
    {
      "cell_type": "markdown",
      "metadata": {
        "id": "uT2rGj40NcAP",
        "pycharm": {
          "name": "#%% md\n"
        }
      },
      "source": [
        "## Section 3: PSTHs\n",
        "\n",
        "We can summarize the information over trials contained in a raster plot in a peri-stimulus time histogram (PSTH), also sometimes called a peri-event time histogram (PETH). In this plot, we want to show the average underlying firing rate over time. To do that, we need to use discrete chunks of time - we divide time into time bins of some length. \n",
        "\n",
        "For each time bin, we can then count the number of spikes in that time bin over all the trials. We can then get the average spikes/bin for that time bin during the trial as the the number of spikes divided by the number of trials. We can convert to spikes/second by dividing by the bin length in seconds.\n",
        "\n",
        "\n",
        "\n"
      ]
    },
    {
      "cell_type": "code",
      "source": [
        "# Define bin width\n",
        "bin_width = 10\n",
        "\n",
        "# Create bin edges\n",
        "bin_edge_times = np.arange(0, trial_length+.1, bin_width)\n",
        "\n",
        "fig, ax = plt.subplots(1, 1, figsize=(12, 3), sharex=True)\n",
        "\n",
        "# Make raster of this data\n",
        "ax.eventplot(all_sp_time_list, colors = 'black')\n",
        "ax.set(ylabel = 'Trial Number',\n",
        "      xlim = [0, trial_length],\n",
        "      ylim = [-.7, 4.7],\n",
        "      yticks = [0, 1, 2, 3, 4],\n",
        "      yticklabels = [1, 2, 3, 4, 5]);\n",
        "\n",
        "# Plot bin vertical lines \n",
        "for bin_time in bin_edge_times:\n",
        "  ax.plot([bin_time, bin_time], [-.7, 4.7], 'r')\n"
      ],
      "metadata": {
        "id": "Z97ltgwVMXN8",
        "outputId": "c2b051a4-fd2d-4c3d-b037-84e30d532ed1",
        "colab": {
          "base_uri": "https://localhost:8080/",
          "height": 211
        }
      },
      "execution_count": 7,
      "outputs": [
        {
          "output_type": "display_data",
          "data": {
            "image/png": "[encoded data removed]",
            "text/plain": [
              "<Figure size 864x216 with 1 Axes>"
            ]
          },
          "metadata": {
            "needs_background": "light"
          }
        }
      ]
    },
    {
      "cell_type": "markdown",
      "source": [
        "*Figure 3: Example raster plot with red vertical lines indicating 20 ms bins*"
      ],
      "metadata": {
        "id": "z1uE16RlMjvE"
      }
    },
    {
      "cell_type": "markdown",
      "source": [
        "**Stop and think!** See Figure 3 to see a raster plot from 5 trials of neural data, where each trial is just 100 ms long. We want to compute a PSTH for this data with a bin width of 10 ms. On Figure 3, the red vertical lines denote the bin edges. What is the PSTH value in terms of spikes/seconds for the first 10 ms?\n",
        "\n",
        "There are 2 spikes in total in the first 20 ms. We divide 2 by the number of trials (5) and the bin length in seconds (.01) to get the firing rate in spikes/second.\n",
        "\n",
        "2/(5*0.01) = 40\n",
        "\n",
        "\n"
      ],
      "metadata": {
        "id": "Pp5L45MQL9sG"
      }
    },
    {
      "cell_type": "markdown",
      "source": [
        "**Advanced Coding Challenge!** Using the data in `all_sp_time_list` (defined above), compute the PSTH for a bin size of 10 ms. Make `PSTH` an array of shape (n_bins, ), where each element is the firing rate in terms of spikes/second for that bin."
      ],
      "metadata": {
        "id": "0fl986NHRGu5"
      }
    },
    {
      "cell_type": "code",
      "source": [
        "# @markdown Click to see a solution\n",
        "\n",
        "## Keep in mind there are lots of ways of doing this!\n",
        "\n",
        "# Define bin width\n",
        "bin_width = 10\n",
        "\n",
        "# Create bin edges\n",
        "bin_edge_times = np.arange(0, trial_length+.1, bin_width)\n",
        "\n",
        "# Concatenate all spike times into one array\n",
        "concat_spikes = np.concatenate(all_sp_time_list, axis=0),\n",
        "\n",
        "# Get number of spikes in each bin\n",
        "PSTH, _ = np.histogram(concat_spikes, bins=bin_edge_times) \n",
        "\n",
        "# Divide by number of trials and bin length to get spikes/second\n",
        "PSTH = PSTH/(n_trials * (bin_width/1000))\n",
        "\n",
        "print(PSTH)"
      ],
      "metadata": {
        "cellView": "form",
        "id": "Em2Vx6CVCjH_",
        "pycharm": {
          "name": "#%%\n"
        },
        "outputId": "79b71904-b2a7-4540-efab-fc02728e7bec",
        "colab": {
          "base_uri": "https://localhost:8080/"
        }
      },
      "execution_count": 9,
      "outputs": [
        {
          "output_type": "stream",
          "name": "stdout",
          "text": [
            "[ 40.  20.  60. 100. 100. 100.   0.   0.  40.  60.]\n"
          ]
        }
      ]
    },
    {
      "cell_type": "code",
      "metadata": {
        "cellView": "form",
        "colab": {
          "base_uri": "https://localhost:8080/",
          "height": 442
        },
        "id": "c8rBKgY2SZlS",
        "outputId": "ce1f3588-b6e6-463e-a0df-b136c8a197d0",
        "pycharm": {
          "name": "#%%\n"
        }
      },
      "source": [
        "# @markdown \n",
        "\n",
        "def plot_raster_and_PSTH(all_sp_time_list, bin_edge_times, PSTH):\n",
        "  fig, axes = plt.subplots(2, 1, figsize=(12, 7), sharex=True)\n",
        "\n",
        "  # Make raster of this data\n",
        "  axes[0].eventplot(all_sp_time_list, colors = 'black')\n",
        "  axes[0].set(ylabel = 'Trial Number',\n",
        "        xlim = [0, trial_length],\n",
        "        ylim = [-.7, 4.7],\n",
        "        yticks = [0, 1, 2, 3, 4],\n",
        "        yticklabels = [1, 2, 3, 4, 5]);\n",
        "\n",
        "  # Plot bin vertical lines \n",
        "  for bin_time in bin_edge_times:\n",
        "    axes[0].plot([bin_time, bin_time], [-.7, 4.7], 'r')\n",
        "\n",
        "  # Plot PSTH\n",
        "  x_vals = np.arange(0, trial_length, .1)\n",
        "  y_vals = np.zeros((len(x_vals)))\n",
        "  for i_bin in range(len(bin_edge_times) - 1):\n",
        "    y_vals[(x_vals > bin_edge_times[i_bin]) & (x_vals <= bin_edge_times[i_bin + 1])] = PSTH[i_bin] \n",
        "\n",
        "  axes[1].plot(x_vals, y_vals,  'k');\n",
        "  axes[1].set(xlabel = 'Time (ms)', \n",
        "              ylabel = 'Firing rate (spikes/second)');\n",
        "\n",
        "\n",
        "# Define bin width\n",
        "bin_width = 10\n",
        "\n",
        "# Create bin edges\n",
        "bin_edge_times = np.arange(0, trial_length+.1, bin_width)\n",
        "\n",
        "# Concatenate all spike times into one array\n",
        "concat_spikes = np.concatenate(all_sp_time_list, axis=0),\n",
        "\n",
        "# Get number of spikes in each bin\n",
        "PSTH, _ = np.histogram(concat_spikes, bins=bin_edge_times) \n",
        "\n",
        "# Divide by number of trials and bin length to get spikes/second\n",
        "PSTH = PSTH/(n_trials * (bin_width/1000))\n",
        "\n",
        "# Visualize\n",
        "plot_raster_and_PSTH(all_sp_time_list, bin_edge_times, PSTH)"
      ],
      "execution_count": 10,
      "outputs": [
        {
          "output_type": "display_data",
          "data": {
            "image/png": "[encoded data removed]",
            "text/plain": [
              "<Figure size 864x504 with 2 Axes>"
            ]
          },
          "metadata": {
            "needs_background": "light"
          }
        }
      ]
    },
    {
      "cell_type": "markdown",
      "metadata": {
        "id": "em6qoLEuWVrW",
        "pycharm": {
          "name": "#%% md\n"
        }
      },
      "source": [
        "*Figure 3: PSTH (bottom row) constructed from a raster plot (top row) with a bin width of 5 ms.*"
      ]
    },
    {
      "cell_type": "markdown",
      "metadata": {
        "id": "nY-AcjEJXNU9"
      },
      "source": [
        "**Stop and think!** What would happen if you choose a bin width that's too big? Too small? Think about it, then play with the demo below to see if your intuitions are correct.\n",
        "\n",
        "Too big a bin and you might lose temporal information in the neural reponses because you're summing spikes over a long period of time. Too small a bin and the PSTH could be hard to interpret. For example, imagine if you chose a time bin small enough that there was almost always at most 1 spike in each, even across all trials. The PSTH would not convey much information. "
      ]
    },
    {
      "cell_type": "code",
      "source": [
        "# @markdown Execute to enable demo\n",
        "@widgets.interact(bin_width = widgets.IntSlider(value=10, min=1, max=100, step=1,  description='Bin width'))\n",
        "def plot_PSTH(bin_width):\n",
        "    # Create bin edges\n",
        "    bin_edge_times = np.arange(0, trial_length+.1, bin_width)\n",
        "\n",
        "    # Concatenate all spike times into one array\n",
        "    concat_spikes = np.concatenate(all_sp_time_list, axis=0),\n",
        "\n",
        "    # Get number of spikes in each bin\n",
        "    PSTH, _ = np.histogram(concat_spikes, bins=bin_edge_times) \n",
        "\n",
        "    # Divide by number of trials and bin length to get spikes/second\n",
        "    PSTH = PSTH/(n_trials * (bin_width/1000))\n",
        "\n",
        "    # Visualize\n",
        "    plot_raster_and_PSTH(all_sp_time_list, bin_edge_times, PSTH)"
      ],
      "metadata": {
        "id": "Jd4v7crXNljz",
        "cellView": "form",
        "outputId": "cd8bf175-b5fb-4da0-b0b8-22304dc793ec",
        "colab": {
          "base_uri": "https://localhost:8080/",
          "height": 490,
          "referenced_widgets": [
            "11d0de07088f4ba5a6b6dcfbe40ecf73",
            "3ea37170b9b94e1899805bf404204053",
            "2f56a64a4de449d8930901bb4a744da7",
            "ab4722ffce2e430e91bcf613f5ae84d4",
            "ff6b14309bd940b5954dd77d0504252c",
            "c813255ba2b54c41a1e4301e9971d8ad",
            "89653a1a68f24147a4b6e96608236af3"
          ]
        }
      },
      "execution_count": 15,
      "outputs": [
        {
          "output_type": "display_data",
          "data": {
            "application/vnd.jupyter.widget-view+json": {
              "model_id": "11d0de07088f4ba5a6b6dcfbe40ecf73",
              "version_minor": 0,
              "version_major": 2
            },
            "text/plain": [
              "interactive(children=(IntSlider(value=10, description='Bin width', min=1), Output()), _dom_classes=('widget-in…"
            ]
          },
          "metadata": {}
        }
      ]
    },
    {
      "cell_type": "markdown",
      "source": [
        "*Figure 4: Interactive demo of the effect of bin width on the PSTH.* "
      ],
      "metadata": {
        "id": "cPnEPuCZAoa4"
      }
    },
    {
      "cell_type": "markdown",
      "source": [
        "## Section 4: Returning to our experiment"
      ],
      "metadata": {
        "id": "FL3a34mkNnGy"
      }
    },
    {
      "cell_type": "markdown",
      "metadata": {
        "id": "z4W24kxjOzKb"
      },
      "source": [
        "\n",
        "Let's return to our proposed experiment. We have recorded the spike times of a motor neuron in a monkey while that monkey reaches in 8 different directions. We have plotted the raster plots given multiple trials of a reach in each direction, see Figure 6 below. \n",
        "\n",
        "\n"
      ]
    },
    {
      "cell_type": "code",
      "metadata": {
        "cellView": "form",
        "id": "EoZwtYh1q-_Z",
        "colab": {
          "base_uri": "https://localhost:8080/",
          "height": 268
        },
        "outputId": "868fa594-c392-4dce-fd7c-4ce5d3552372",
        "pycharm": {
          "name": "#%%\n"
        }
      },
      "source": [
        "# @markdown\n",
        "\n",
        "np.random.seed(123)\n",
        "\n",
        "# Set up parameters for faking data\n",
        "n_trials = 10\n",
        "angles = np.array([0, 45, 90, 135, 180, 225, 270, 315])\n",
        "firing_rates = np.array([5, 8, 40, 54, 55, 38, 24, 8])\n",
        "\n",
        "# Loop over angles & fake data\n",
        "reach_sp_times = {}\n",
        "for i_angle in range(8):\n",
        "    reach_firing_rates = 15*np.ones((1500))\n",
        "    reach_firing_rates[(750 - 250):(750 + 250)] = firing_rates[i_angle]\n",
        "\n",
        "    bin_width = 1/1000\n",
        "\n",
        "    all_sp_time_list = []\n",
        "    for i_trial in range(n_trials):\n",
        "\n",
        "        binned_spikes = np.random.poisson(reach_firing_rates * bin_width)\n",
        "        sp_times = np.where(binned_spikes)[0]\n",
        "\n",
        "        all_sp_time_list.append(sp_times)\n",
        "\n",
        "    reach_sp_times[i_angle] = all_sp_time_list\n",
        "\n",
        "\n",
        "# Visualize\n",
        "fig, axes = plt.subplots(2, 4, figsize=(17, 5), sharex=True, sharey = True)\n",
        "axes = axes.flatten()\n",
        "for i_angle in range(8):\n",
        "\n",
        "    axes[i_angle].eventplot(reach_sp_times[i_angle], colors = 'black')\n",
        "    axes[i_angle].plot([750, 750], [0, 10], 'b')\n",
        "    axes[i_angle].set(\n",
        "       ylim = [-.7, 10.7],\n",
        "       yticks = np.arange(0, 10, 2),\n",
        "       yticklabels = np.arange(1, 11, 2),\n",
        "       title = f'{angles[i_angle]} degrees');\n",
        "    \n",
        "    if angles[i_angle] > 135:\n",
        "      axes[i_angle].set(xlabel = 'Time (ms)')\n",
        "    if angles[i_angle] == 0 or angles[i_angle] == 180:\n",
        "      axes[i_angle].set(ylabel = 'Trials')\n",
        "\n",
        "plt.tight_layout()"
      ],
      "execution_count": null,
      "outputs": [
        {
          "output_type": "display_data",
          "data": {
            "image/png": "[encoded data removed]",
            "text/plain": [
              "<Figure size 1224x360 with 8 Axes>"
            ]
          },
          "metadata": {
            "needs_background": "light"
          }
        }
      ]
    },
    {
      "cell_type": "markdown",
      "metadata": {
        "id": "T1lPS8youKB4",
        "pycharm": {
          "name": "#%% md\n"
        }
      },
      "source": [
        "*Figure 5: Raster plots of motor neuron response for 10 trials for each reach condition. Please note that this is faked data for illustrative purposes. The blue vertical line indicates the start of each reach.* "
      ]
    },
    {
      "cell_type": "markdown",
      "metadata": {
        "id": "DgAZADQiYzk9",
        "pycharm": {
          "name": "#%% md\n"
        }
      },
      "source": [
        "**Stop and think!** Based on Figure 5, what directions of reach does this neuron fire a lot to? What directions of reach does it not respond for?\n",
        "\n",
        "The neuron fires a lot when the monkey is reaching at 135 and 180 degrees. It responds much less for 0 degrees and 315 degrees."
      ]
    }
  ]
}