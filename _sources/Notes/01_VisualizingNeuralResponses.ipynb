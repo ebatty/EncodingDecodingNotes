{
 "nbformat": 4,
 "nbformat_minor": 0,
 "metadata": {
  "colab": {
   "name": "01_VisualizingNeuralResponses.ipynb",
   "provenance": [],
   "collapsed_sections": [],
   "include_colab_link": true
  },
  "kernelspec": {
   "name": "python3",
   "display_name": "Python 3"
  },
  "language_info": {
   "name": "python"
  }
 },
 "cells": [
  {
   "cell_type": "markdown",
   "metadata": {
    "id": "view-in-github",
    "colab_type": "text"
   },
   "source": [
    "<a href=\"https://colab.research.google.com/github/ebatty/EncodingDecodingNotes/blob/main/Notes/01_VisualizingNeuralResponses.ipynb\" target=\"_blank\"><img alt=\"Open In Colab\" src=\"https://colab.research.google.com/assets/colab-badge.svg\"/></a>"
   ]
  },
  {
   "cell_type": "markdown",
   "metadata": {
    "id": "ZyrCnMGfO8QR"
   },
   "source": [
    "# 01 - Visualizing Neural Responses\n",
    "\n"
   ]
  },
  {
   "cell_type": "markdown",
   "metadata": {},
   "source": [
    " Imports\n"
   ]
  },
  {
   "cell_type": "code",
   "metadata": {
    "cellView": "form",
    "id": "c8AiLm6tS2Rt",
    "pycharm": {
     "name": "#%%\n"
    },
    "tags": [
     "hide-input"
    ]
   },
   "source": [
    "# @markdown Imports\n",
    "import numpy as np\n",
    "import matplotlib\n",
    "matplotlib.rcParams.update({'font.size': 18})\n",
    "import matplotlib.pyplot as plt"
   ],
   "execution_count": 28,
   "outputs": []
  },
  {
   "cell_type": "markdown",
   "metadata": {
    "id": "5zxAYk02PiXv",
    "pycharm": {
     "name": "#%% md\n"
    }
   },
   "source": [
    "## Section 1: Experimental set-up\n",
    "\n",
    "In the next few sections, we will cover important concepts in the context of a case study. In this case study, you are a computational neuroscientist and you have a hypothesis that some neurons in monkey motor cortex correlate with the direction of arm movement while reaching. By this, you mean that a particular neuron will fire more when the monkey reaches in certain directions than others.  \n",
    "\n",
    "You are able to record the spike times of a neuron from motor cortex in a monkey. \n"
   ]
  },
  {
   "cell_type": "markdown",
   "metadata": {
    "id": "8VoGLa9bOIfQ"
   },
   "source": [
    "```{admonition} **Stop and think!** What do you want the experiment to look like?\n",
    ":class: tip, dropdown\n",
    "\nYou choose an experimental set-up which will allow pretty easy analysis of the data. You have a monkey reach in eight different directions while recording from the neuron. Importantly, you have the monkey reach in each direction numerous times, not just once. You record the time the reach is initiated, perhaps by having the monkey hold onto a joystick with a sensor in it until they reach (the sensor can automatically record when the monkey lets go).\n"
   ]
  },
  {
   "cell_type": "markdown",
   "metadata": {
    "id": "7GqfWM0fOFHm"
   },
   "source": [
    "This is a typical experimental protocol in neuroscience: recording the spike times of a neuron while presenting the same stimulus over and over, or having the animal perform the same behavior over and over. Each presentation of the stimulus or iteration of the behavior is called a **trial**. Neurons are noisy - they do not respond exactly the same way every time they see the same stimulus or behavior - collecting multiple trials of data helps us better understand the neural responses and see how variable they are.\n",
    "\n",
    "You go ahead and perform your experiment and collect a bunch of data. You now have the spike times of the neuron during multiple reachs in the same direction (and you have this for 8 different directions)."
   ]
  },
  {
   "cell_type": "markdown",
   "source": [
    "```{admonition} **Stop and think!** What should you do next?\n",
    ":class: tip, dropdown\n",
    "\nThe very first thing you should do when you collect new data or receive data from someone else is visualize it! The importance of this step cannot be overemphasized."
   ],
   "metadata": {
    "id": "bUxQSw0_M2nb"
   }
  },
  {
   "cell_type": "markdown",
   "metadata": {
    "id": "5McS2n4nVMDM"
   },
   "source": [
    "## Section 2: Raster plots\n",
    "\n",
    "\n",
    "\n"
   ]
  },
  {
   "cell_type": "markdown",
   "metadata": {
    "id": "KcLTYTAPIihJ"
   },
   "source": [
    "An excellent and common way to visualize neural spiking in multiple trials is a **raster plot**, an example of which can be found in Figure 1. In this style of plot, time is represented on the x-axis. Each spike is represented by a vertical line at the time it occurs. Each row (y-axis) can be a separate trial - in this case the raster plot displays a single neuron's responses over multiple trials and can be used to quickly assess response variability. Note that the timing of each trial needs to be synced. In other words, the stimulus onset, or event onset, should happen at the same time in each trial. \n",
    "\n",
    "\n"
   ]
  },
  {
   "cell_type": "markdown",
   "metadata": {
    "id": "YjSCtmePM5Wg"
   },
   "source": [
    "<img src=\"https://github.com/ebatty/EncodingDecodingNotes/blob/main/images/Putnametal.png?raw=True\"  width=\"600\">\n",
    "\n",
    "\n",
    "*Figure 1: An example raster plot, adapted from [Putnam and Gothard, eNeuro 2019](https://www.eneuro.org/content/6/5/ENEURO.0153-19.2019), under [CC-BY 4.0](https://creativecommons.org/licenses/by/4.0/)*\n"
   ]
  },
  {
   "cell_type": "markdown",
   "source": [
    "The raster in Figure 1, adapted from [Putnam and Gothard, eNeuro 2019](https://www.eneuro.org/content/6/5/ENEURO.0153-19.2019), shows neural data from monkey amygdala, recorded while the monkey repeatedly watches a video. The red lines indicate the onset and offset of the video."
   ],
   "metadata": {
    "id": "_fm9iY0WJR_p"
   }
  },
  {
   "cell_type": "markdown",
   "metadata": {
    "id": "FNC529OCMsHp"
   },
   "source": [
    "```{admonition} **Stop and think!** What can you infer about the neuron shown in Figure 1?\n",
    ":class: tip, dropdown\n",
    "From the raster in Figure 1, you can see that the neuron responds to video onset and video offset, because it increases its firing rate shortly after both."
   ]
  },
  {
   "cell_type": "markdown",
   "metadata": {
    "id": "hxTEA5Y8LvEO"
   },
   "source": [
    "Instead of the raster showing one neuron over multiple trials, it can display a population of neuron's responses, where each row shows the responses of a single neuron.  See Figure 3 for an example of this. This figure, from [Ito et al, PLoS ONE 2014](https://journals.plos.org/plosone/article?id=10.1371/journal.pone.0105324), represents the spiking responses of simultaneously recorded neurons in cortico-hippocampal brain slices from mice. In this data, there are no trials, this is just recordings over a period of time."
   ]
  },
  {
   "cell_type": "markdown",
   "metadata": {
    "id": "clamBZwCQOb9"
   },
   "source": [
    "<img src=\"https://github.com/ebatty/EncodingDecodingNotes/blob/main/images/Itoetal.png?raw=True\"  width=\"600\" alt=\"rasterplotexample1\">\n",
    "\n",
    "*Figure 2: A raster plot with rows as different neurons, from [Ito et al, PLoS ONE 2014](https://journals.plos.org/plosone/article?id=10.1371/journal.pone.0105324), under [CC-BY 4.0](https://creativecommons.org/licenses/by/4.0/)*"
   ]
  },
  {
   "cell_type": "markdown",
   "metadata": {
    "id": "2AL84eP-Qk-c"
   },
   "source": [
    "```{admonition} **Stop and think!** What can you conclude about the neurons recorded in cortico-hippocampal slices shown in Figure 2?\n",
    ":class: tip, dropdown\n",
    "\nFrom the raster in Figure 2, you can conclude that the neurons in the population are synchronized: there are periods of time when all neurons are spiking (indicated by red arrows), and periods of time when all neurons are silent."
   ]
  },
  {
   "cell_type": "code",
   "source": [
    "n_trials = 5\n",
    "trial_length = 100 # ms\n",
    "\n",
    "# Set up spike time data\n",
    "all_sp_time_list = [np.array([17.82, 36.63, 51.48, 55.11, 91.74]),\n",
    "                    np.array([ 4.62, 39.27, 52.47, 58.41, 92.4]),\n",
    "                    np.array([28.38, 34.98, 43.56, 46.86, 89.1]),\n",
    "                    np.array([29.37, 39.27, 42.57, 47.85, 86.79]),\n",
    "                    np.array([ 1.32, 27.06, 34.98, 43.56, 55.77, 92.4])]\n",
    "\n",
    "# Make raster of this data\n",
    "fig, ax = plt.subplots(1, 1, figsize=(12, 4))\n",
    "ax.eventplot(all_sp_time_list, colors = 'black')\n",
    "\n",
    "# Label x and y axes (with units!)\n",
    "ax.set(xlabel = 'Time (ms)', \n",
    "       ylabel = 'Trial Number',\n",
    "       xlim = [0, trial_length],\n",
    "       ylim = [-.7, 4.7],\n",
    "       yticks = [0, 1, 2, 3, 4],\n",
    "       yticklabels = [1, 2, 3, 4, 5]);",
    "\nglue(\"fig\", fig, display=False)"
   ],
   "metadata": {
    "colab": {
     "base_uri": "https://localhost:8080/",
     "height": 279
    },
    "id": "7dKIqFoP0N0L",
    "outputId": "eae06bb7-7071-4868-f159-56a3545916d3",
    "pycharm": {
     "name": "#%%\n"
    },
    "tags": [
     "remove-cell"
    ]
   },
   "execution_count": null,
   "outputs": [
    {
     "output_type": "display_data",
     "data": {
      "image/png": "[encoded data removed]",
      "text/plain": [
       "<Figure size 864x288 with 1 Axes>"
      ]
     },
     "metadata": {
      "needs_background": "light"
     }
    }
   ]
  },
  {
   "cell_type": "markdown",
   "source": [
    "````{admonition} **Coding Corner!** Plotting rasters in Python\n",
    ":class: note, dropdown\n",
    "\n",
    "We can create raster plots in matplotlib by using [`plt.eventplot`](https://matplotlib.org/stable/api/_as_gen/matplotlib.pyplot.eventplot.html). \n",
    "\n",
    "The first argument is a list of arrays, where each array contains the spike times for that row of the raster. For example, if you are plotting multiple trials of one neuron, each array would contain the spike times of one trial. \n",
    "\n",
    "For example, in the raster plot created below, we have neural data for 5 trials for 100 ms per trial. The neuron spiked at 17.82 milliseconds, 36.63 ms, 51.48 ms, 55.41 ms, and 91.74 ms in trial 1. In trial 2, it spiked at 4.62 ms, 39.27 ms, 52.47 ms, 58.41 ms, and 92.4 ms.\n",
    "\n",
    "\n",
    "\n```{code-block} python \n",
    "n_trials = 5\n",
    "trial_length = 100 # ms\n",
    "\n",
    "# Set up spike time data\n",
    "all_sp_time_list = [np.array([17.82, 36.63, 51.48, 55.11, 91.74]),\n",
    "                    np.array([ 4.62, 39.27, 52.47, 58.41, 92.4]),\n",
    "                    np.array([28.38, 34.98, 43.56, 46.86, 89.1]),\n",
    "                    np.array([29.37, 39.27, 42.57, 47.85, 86.79]),\n",
    "                    np.array([ 1.32, 27.06, 34.98, 43.56, 55.77, 92.4])]\n",
    "\n",
    "# Make raster of this data\n",
    "fig, ax = plt.subplots(1, 1, figsize=(12, 4))\n",
    "ax.eventplot(all_sp_time_list, colors = 'black')\n",
    "\n",
    "# Label x and y axes (with units!)\n",
    "ax.set(xlabel = 'Time (ms)', \n",
    "       ylabel = 'Trial Number',\n",
    "       xlim = [0, trial_length],\n",
    "       ylim = [-.7, 4.7],\n",
    "       yticks = [0, 1, 2, 3, 4],\n",
    "       yticklabels = [1, 2, 3, 4, 5]);",
    "\n```\n",
    "This code outputs the following plot\n",
    "```{glue:figure} fig \n",
    "```\n",
    "````"
   ],
   "metadata": {
    "id": "3JdI5qfazz6m"
   }
  },
  {
   "cell_type": "markdown",
   "metadata": {
    "id": "uT2rGj40NcAP",
    "pycharm": {
     "name": "#%% md\n"
    }
   },
   "source": [
    "## Section 3: PSTHs\n",
    "\n",
    "We can summarize the information over trials contained in a raster plot in a peri-stimulus time histogram (PSTH), also sometimes called a peri-event time histogram (PETH). In this plot, we want to show the average underlying firing rate over time. To do that, we need to use discrete chunks of time - we divide time into time bins of some length. \n",
    "\n",
    "For each time bin, we can then count the number of spikes in that time bin over all the trials. We can then get the average spikes/bin for that time bin during the trial as the the number of spikes divided by the number of trials. We can convert to spikes/second by dividing by the bin length in seconds.\n",
    "\n",
    "\n",
    "\n"
   ]
  },
  {
   "cell_type": "code",
   "source": [
    "# Define bin width\n",
    "bin_width = 20\n",
    "\n",
    "# Create bin edges\n",
    "bin_edge_times = np.arange(0, trial_length+.1, bin_width)\n",
    "\n",
    "fig, ax = plt.subplots(1, 1, figsize=(12, 3), sharex=True)\n",
    "\n",
    "# Make raster of this data\n",
    "ax.eventplot(all_sp_time_list, colors = 'black')\n",
    "ax.set(ylabel = 'Trial Number',\n",
    "      xlim = [0, trial_length],\n",
    "      ylim = [-.7, 4.7],\n",
    "      yticks = [0, 1, 2, 3, 4],\n",
    "      yticklabels = [1, 2, 3, 4, 5]);\n",
    "\n",
    "# Plot bin vertical lines \n",
    "for bin_time in bin_edge_times:\n",
    "  ax.plot([bin_time, bin_time], [-.7, 4.7], 'r')\n"
   ],
   "metadata": {
    "id": "Z97ltgwVMXN8",
    "outputId": "61bc7582-72a9-4e67-a6c7-b771ff6bf81d",
    "colab": {
     "base_uri": "https://localhost:8080/",
     "height": 211
    }
   },
   "execution_count": null,
   "outputs": [
    {
     "output_type": "display_data",
     "data": {
      "image/png": "[encoded data removed]",
      "text/plain": [
       "<Figure size 864x216 with 1 Axes>"
      ]
     },
     "metadata": {
      "needs_background": "light"
     }
    }
   ]
  },
  {
   "cell_type": "markdown",
   "source": [
    "*Figure 3: Example raster plot with red vertical lines indicating 20 ms bins*"
   ],
   "metadata": {
    "id": "z1uE16RlMjvE"
   }
  },
  {
   "cell_type": "markdown",
   "source": [
    "```{admonition} **Stop and think!** See Figure 3 to see a raster plot from 5 trials of neural data, where each trial is just 100 ms long. We want to compute a PSTH for this data with a bin width of 20 ms. On Figure 3, the red vertical lines denote the bin edges. What is the PSTH value in terms of spikes/seconds for the first 20 ms?\n",
    ":class: tip, dropdown\n",
    "There are 3 spikes in total in the first 20 ms. We divide 3 by the number of trials (5) and the bin length in seconds (.2) to get the firing rate in spikes/second.\n\n3/(5*0.02) = 30\n\n\n"
   ],
   "metadata": {
    "id": "Pp5L45MQL9sG"
   }
  },
  {
   "cell_type": "code",
   "source": [
    "# @markdown Click to see a solution\n",
    "\n",
    "## Keep in mind there are lots of ways of doing this!\n",
    "\n",
    "# Define bin width\n",
    "bin_width = 20\n",
    "\n",
    "# Create bin edges\n",
    "bin_edge_times = np.arange(0, trial_length+.1, bin_width)\n",
    "\n",
    "# Concatenate all spike times into one array\n",
    "concat_spikes = np.concatenate(all_sp_time_list, axis=0),\n",
    "\n",
    "# Get number of spikes in each bin\n",
    "PSTH, _ = np.histogram(concat_spikes, bins=bin_edge_times) \n",
    "\n",
    "# Divide by number of trials and bin length to get spikes/second\n",
    "PSTH = PSTH/(n_trials * (bin_width/1000))\n",
    "\n",
    "print(PSTH)"
   ],
   "metadata": {
    "cellView": "form",
    "id": "Em2Vx6CVCjH_",
    "pycharm": {
     "name": "#%%\n"
    },
    "outputId": "21f40982-961d-4bd8-c5a1-8f9494995438",
    "colab": {
     "base_uri": "https://localhost:8080/"
    },
    "tags": [
     "remove-cell",
     "hide-input"
    ]
   },
   "execution_count": null,
   "outputs": [
    {
     "output_type": "stream",
     "name": "stdout",
     "text": [
      "[ 30.  80. 100.   0.  50.]\n"
     ]
    }
   ]
  },
  {
   "cell_type": "markdown",
   "source": [
    "````{admonition} **Advanced Coding Challenge!** Using the data in all_sp_time_list (defined above), compute the PSTH for a bin size of 20 ms. Make PSTH an array of shape (n_bins, ), where each element is the firing rate in terms of spikes/second for that bin.\n",
    ":class: note, dropdown\n",
    "\n```{code-block} python \n",
    "\n",
    "## Keep in mind there are lots of ways of doing this!\n",
    "\n",
    "# Define bin width\n",
    "bin_width = 20\n",
    "\n",
    "# Create bin edges\n",
    "bin_edge_times = np.arange(0, trial_length+.1, bin_width)\n",
    "\n",
    "# Concatenate all spike times into one array\n",
    "concat_spikes = np.concatenate(all_sp_time_list, axis=0),\n",
    "\n",
    "# Get number of spikes in each bin\n",
    "PSTH, _ = np.histogram(concat_spikes, bins=bin_edge_times) \n",
    "\n",
    "# Divide by number of trials and bin length to get spikes/second\n",
    "PSTH = PSTH/(n_trials * (bin_width/1000))\n",
    "\n",
    "print(PSTH)",
    "\n```\n",
    "````"
   ],
   "metadata": {
    "id": "0fl986NHRGu5"
   }
  },
  {
   "cell_type": "markdown",
   "metadata": {},
   "source": [
    " \n"
   ]
  },
  {
   "cell_type": "code",
   "metadata": {
    "cellView": "form",
    "colab": {
     "base_uri": "https://localhost:8080/",
     "height": 442
    },
    "id": "c8rBKgY2SZlS",
    "outputId": "02e811f4-f7fc-4023-cd32-f0d777e38170",
    "pycharm": {
     "name": "#%%\n"
    },
    "tags": [
     "hide-input"
    ]
   },
   "source": [
    "# @markdown \n",
    "\n",
    "def plot_raster_and_PSTH(all_sp_time_list, bin_edge_times, PSTH):\n",
    "  fig, axes = plt.subplots(2, 1, figsize=(12, 7), sharex=True)\n",
    "\n",
    "  # Make raster of this data\n",
    "  axes[0].eventplot(all_sp_time_list, colors = 'black')\n",
    "  axes[0].set(ylabel = 'Trial Number',\n",
    "        xlim = [0, trial_length],\n",
    "        ylim = [-.7, 4.7],\n",
    "        yticks = [0, 1, 2, 3, 4],\n",
    "        yticklabels = [1, 2, 3, 4, 5]);\n",
    "\n",
    "  # Plot bin vertical lines \n",
    "  for bin_time in bin_edge_times:\n",
    "    axes[0].plot([bin_time, bin_time], [-.7, 4.7], 'r')\n",
    "\n",
    "  # Plot PSTH\n",
    "  x_vals = np.arange(0, trial_length, .1)\n",
    "  y_vals = np.zeros((len(x_vals)))\n",
    "  for i_bin in range(len(bin_edge_times) - 1):\n",
    "    y_vals[(x_vals > bin_edge_times[i_bin]) & (x_vals <= bin_edge_times[i_bin + 1])] = PSTH[i_bin] \n",
    "\n",
    "  axes[1].plot(x_vals, y_vals,  'k');\n",
    "  axes[1].set(xlabel = 'Time (ms)', \n",
    "              ylabel = 'Firing rate (spikes/second)');\n",
    "\n",
    "\n",
    "# Define bin width\n",
    "bin_width = 20\n",
    "\n",
    "# Create bin edges\n",
    "bin_edge_times = np.arange(0, trial_length+.1, bin_width)\n",
    "\n",
    "# Concatenate all spike times into one array\n",
    "concat_spikes = np.concatenate(all_sp_time_list, axis=0),\n",
    "\n",
    "# Get number of spikes in each bin\n",
    "PSTH, _ = np.histogram(concat_spikes, bins=bin_edge_times) \n",
    "\n",
    "# Divide by number of trials and bin length to get spikes/second\n",
    "PSTH = PSTH/(n_trials * (bin_width/1000))\n",
    "\n",
    "# Visualize\n",
    "plot_raster_and_PSTH(all_sp_time_list, bin_edge_times, PSTH)"
   ],
   "execution_count": null,
   "outputs": [
    {
     "output_type": "display_data",
     "data": {
      "image/png": "[encoded data removed]",
      "text/plain": [
       "<Figure size 864x504 with 2 Axes>"
      ]
     },
     "metadata": {
      "needs_background": "light"
     }
    }
   ]
  },
  {
   "cell_type": "markdown",
   "metadata": {
    "id": "em6qoLEuWVrW",
    "pycharm": {
     "name": "#%% md\n"
    }
   },
   "source": [
    "*Figure 3: PSTH (bottom row) constructed from a raster plot (top row) with a bin width of 5 ms.*"
   ]
  },
  {
   "cell_type": "markdown",
   "metadata": {
    "id": "nY-AcjEJXNU9"
   },
   "source": [
    "```{admonition} **Stop and think!** What would happen if you choose a bin width that's too big? Too small?\n",
    ":class: tip, dropdown\n",
    "Too big a bin and you might lose temporal information in the neural reponses because you're summing spikes over a long period of time. Too small a bin and the PSTH could be hard to interpret. For example, imagine if you chose a time bin small enough that there was almost always at most 1 spike in each, even across all trials. The PSTH would not convey much information. See Figures 4 and 5 to see too big a bin width and too small a bin width, respectively."
   ]
  },
  {
   "cell_type": "markdown",
   "metadata": {},
   "source": [
    " \n"
   ]
  },
  {
   "cell_type": "code",
   "metadata": {
    "cellView": "form",
    "colab": {
     "base_uri": "https://localhost:8080/",
     "height": 442
    },
    "id": "htuWKoIAXDD9",
    "outputId": "50ea8210-6daf-46ef-abaa-b7c9d19dd717",
    "tags": [
     "hide-input"
    ]
   },
   "source": [
    "# @markdown \n",
    "\n",
    "# Compute PSTH\n",
    "bin_width = 15\n",
    "bin_edge_times = np.arange(0, 30.1, bin_width)\n",
    "binned_spikes, _ = np.histogram(np.concatenate(all_sp_time_list, axis=0), bins = bin_edge_times)\n",
    "\n",
    "# Visualize\n",
    "plot_raster_and_PSTH(all_sp_time_list, bin_edge_times, binned_spikes)"
   ],
   "execution_count": null,
   "outputs": [
    {
     "output_type": "display_data",
     "data": {
      "image/png": "[encoded data removed]",
      "text/plain": [
       "<Figure size 864x504 with 2 Axes>"
      ]
     },
     "metadata": {
      "needs_background": "light"
     }
    }
   ]
  },
  {
   "cell_type": "markdown",
   "metadata": {
    "id": "beLQ2qi0XxkO"
   },
   "source": [
    "*Figure 4: PSTH (bottom row) constructed from a raster plot (top row) with a bin width of 15 ms. This bin width is too large and you lose a lot of temporal information!*"
   ]
  },
  {
   "cell_type": "markdown",
   "metadata": {},
   "source": [
    " \n"
   ]
  },
  {
   "cell_type": "code",
   "metadata": {
    "colab": {
     "base_uri": "https://localhost:8080/",
     "height": 442
    },
    "cellView": "form",
    "id": "wHp2vVACX1LA",
    "outputId": "de862ffd-f8f4-46d2-b548-9e1a34934e23",
    "pycharm": {
     "name": "#%%\n"
    },
    "tags": [
     "hide-input"
    ]
   },
   "source": [
    "# @markdown \n",
    "\n",
    "# Compute PSTH\n",
    "bin_width = .5\n",
    "bin_edge_times = np.arange(0, 30.1, bin_width)\n",
    "binned_spikes, _ = np.histogram(np.concatenate(all_sp_time_list, axis=0), bins = bin_edge_times)\n",
    "\n",
    "# Visualize\n",
    "plot_raster_and_PSTH(all_sp_time_list, bin_edge_times, binned_spikes)"
   ],
   "execution_count": null,
   "outputs": [
    {
     "output_type": "display_data",
     "data": {
      "image/png": "[encoded data removed]",
      "text/plain": [
       "<Figure size 864x504 with 2 Axes>"
      ]
     },
     "metadata": {
      "needs_background": "light"
     }
    }
   ]
  },
  {
   "cell_type": "markdown",
   "metadata": {
    "id": "olRgfx2iX9Zd"
   },
   "source": [
    "*Figure 5: PSTH (bottom row) constructed from a raster plot (top row) with a bin width of .5 ms. This bin width is too small - the PSTH conveys a lot about the exact spike timings in this set of trials but doesn't give us a sense of how the underlying firing rate is changing over time*"
   ]
  },
  {
   "cell_type": "markdown",
   "source": [
    "add interactive viz"
   ],
   "metadata": {
    "id": "-6Ym_uTxRG8H",
    "pycharm": {
     "name": "#%% md\n"
    }
   }
  },
  {
   "cell_type": "markdown",
   "metadata": {
    "id": "z4W24kxjOzKb"
   },
   "source": [
    "\n",
    "Let's return to our proposed experiment. We have recorded the spike times of a motor neuron in a monkey while that monkey reaches in 8 different directions. We have plotted the raster plots given multiple trials of a reach in each direction, see Figure 6 below. \n",
    "\n",
    "\n"
   ]
  },
  {
   "cell_type": "markdown",
   "metadata": {},
   "source": [
    "\n"
   ]
  },
  {
   "cell_type": "code",
   "metadata": {
    "cellView": "form",
    "id": "EoZwtYh1q-_Z",
    "colab": {
     "base_uri": "https://localhost:8080/",
     "height": 253
    },
    "outputId": "caecfe21-2c6c-4a71-f1ba-6bd761cc5b64",
    "pycharm": {
     "name": "#%%\n"
    },
    "tags": [
     "hide-input"
    ]
   },
   "source": [
    "# @markdown\n",
    "\n",
    "np.random.seed(123)\n",
    "\n",
    "# Set up parameters for faking data\n",
    "n_trials = 10\n",
    "angles = np.array([0, 45, 90, 135, 180, 225, 270, 315])\n",
    "firing_rates = np.array([5, 8, 40, 54, 55, 38, 24, 8])\n",
    "\n",
    "# Loop over angles & fake data\n",
    "reach_sp_times = {}\n",
    "for i_angle in range(8):\n",
    "    reach_firing_rates = 15*np.ones((1500))\n",
    "    reach_firing_rates[(750 - 250):(750 + 250)] = firing_rates[i_angle]\n",
    "\n",
    "    bin_width = 1/1000\n",
    "\n",
    "    all_sp_time_list = []\n",
    "    for i_trial in range(n_trials):\n",
    "\n",
    "        binned_spikes = np.random.poisson(reach_firing_rates * bin_width)\n",
    "        sp_times = np.where(binned_spikes)[0]\n",
    "\n",
    "        all_sp_time_list.append(sp_times)\n",
    "\n",
    "    reach_sp_times[i_angle] = all_sp_time_list\n",
    "\n",
    "\n",
    "# Visualize\n",
    "fig, axes = plt.subplots(2, 4, figsize=(17, 5), sharex=True, sharey = True)\n",
    "axes = axes.flatten()\n",
    "for i_angle in range(8):\n",
    "\n",
    "    axes[i_angle].eventplot(reach_sp_times[i_angle], colors = 'black')\n",
    "    axes[i_angle].plot([750, 750], [0, 10], 'b')\n",
    "    axes[i_angle].set(\n",
    "       ylim = [-.7, 10.7],\n",
    "       yticks = np.arange(0, 10, 2),\n",
    "       yticklabels = np.arange(1, 11, 2),\n",
    "       title = f'{angles[i_angle]} degrees');\n",
    "    \n",
    "    if angles[i_angle] > 135:\n",
    "      axes[i_angle].set(xlabel = 'Time (ms)')\n",
    "    if angles[i_angle] == 0 or angles[i_angle] == 180:\n",
    "      axes[i_angle].set(ylabel = 'Trials')\n",
    "\n",
    "plt.tight_layout()"
   ],
   "execution_count": null,
   "outputs": [
    {
     "output_type": "display_data",
     "data": {
      "image/png": "[encoded data removed]",
      "text/plain": [
       "<Figure size 1224x360 with 8 Axes>"
      ]
     },
     "metadata": {
      "needs_background": "light"
     }
    }
   ]
  },
  {
   "cell_type": "markdown",
   "metadata": {
    "id": "T1lPS8youKB4",
    "pycharm": {
     "name": "#%% md\n"
    }
   },
   "source": [
    "*Figure 6: Raster plots of motor neuron response for 10 trials for each reach condition. Please note that this is faked data for illustrative purposes. The blue vertical line indicates the start of each reach.* "
   ]
  },
  {
   "cell_type": "markdown",
   "metadata": {
    "id": "DgAZADQiYzk9",
    "pycharm": {
     "name": "#%% md\n"
    }
   },
   "source": [
    "```{admonition} **Stop and think!** Based on Figure 6, what directions of reach does this neuron fire a lot to? What directions of reach does it not respond for?\n",
    ":class: tip, dropdown\n",
    "The neuron fires a lot when the monkey is reaching at 135 and 180 degrees. It responds much less for 0 degrees and 315 degrees."
   ]
  }
 ]
}