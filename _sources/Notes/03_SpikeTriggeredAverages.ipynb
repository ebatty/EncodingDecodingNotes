{
 "nbformat": 4,
 "nbformat_minor": 0,
 "metadata": {
  "colab": {
   "name": "03_SpikeTriggeredAverages.ipynb",
   "provenance": [],
   "collapsed_sections": [],
   "authorship_tag": "ABX9TyNaB1xKq/7kTNmFeLeuM5QR",
   "include_colab_link": true
  },
  "kernelspec": {
   "name": "python3",
   "display_name": "Python 3"
  },
  "language_info": {
   "name": "python"
  }
 },
 "cells": [
  {
   "cell_type": "markdown",
   "metadata": {
    "id": "view-in-github",
    "colab_type": "text"
   },
   "source": [
    "<a href=\"https://colab.research.google.com/github/ebatty/EncodingDecodingNotes/blob/main/Notes/03_SpikeTriggeredAverages.ipynb\" target=\"_blank\"><img alt=\"Open In Colab\" src=\"https://colab.research.google.com/assets/colab-badge.svg\"/></a>"
   ]
  },
  {
   "cell_type": "markdown",
   "metadata": {
    "id": "pMREknGF9XZ7"
   },
   "source": [
    "# 03 - Spike Triggered Averages\n",
    "\n",
    "Learning objectives of lecture/notes: After lecture, students should be able to:\n",
    "\n",
    "- Interpret information from spike-triggered average and know when you can do so\n",
    "\n",
    "- Be able to compute STA using both math and code\n",
    "\n"
   ]
  },
  {
   "cell_type": "markdown",
   "metadata": {},
   "source": [
    " Imports\n"
   ]
  },
  {
   "cell_type": "code",
   "metadata": {
    "id": "hgKlPJBpl35F",
    "tags": [
     "hide-input"
    ]
   },
   "source": [
    "# @markdown Imports\n",
    "import numpy as np\n",
    "import matplotlib.pyplot as plt\n",
    "import scipy.io as sio\n",
    "!pip install -q gdown"
   ],
   "execution_count": null,
   "outputs": []
  },
  {
   "cell_type": "markdown",
   "metadata": {
    "id": "Nn0y3NicknZ2"
   },
   "source": [
    "# Section 1: Why do we need to move beyond tuning curves?\n",
    "\n",
    "\n",
    "In the last lecture, we saw the use of tuning curves as a way to understand the relationship between a stimulus and the responses of a neuron. However, this approch is pretty limited. Tuning curves are very simple: you can't use them to capture responses to complex or multiple features. You can only use them to look at average firing rate to discrete options of a stimulus that you choose (like different reaches).  Additionally, they don't consider timing information present in neural responses. Neurons tend to respond to aspects of the stimuli in a recent window in the past, essentially integrating over the recent past. They also respond in a time-varying manner to different stimuli. So, we need to move beyond tuning curves to more sophisticated methods of observing the relationship between stimulus and neural response. "
   ]
  },
  {
   "cell_type": "markdown",
   "metadata": {
    "id": "SSmpkeUUklxS"
   },
   "source": [
    "# Section 2: One-dimensional spike triggered average (STA)\n",
    "\n"
   ]
  },
  {
   "cell_type": "markdown",
   "metadata": {
    "id": "PcvDUfiBkz-O"
   },
   "source": [
    "## Section 2.1: Intro to STA\n",
    "\n",
    "We will first work with spike times from a single neuron, recording while a 1-dimensional stimulus was presented. We will work with data collected by Rob de Ruyter van Steveninck from a fly H1 neuron responding to an approximate white-noise visual motion stimulus (from Dayan & Abbott 2001). The data was collected for 20 minutes at a sampling rate of 500 Hz.\n",
    "\n"
   ]
  },
  {
   "cell_type": "markdown",
   "metadata": {},
   "source": [
    " Execute this cell to download & visualize data\n"
   ]
  },
  {
   "cell_type": "code",
   "metadata": {
    "id": "gPRHjAdrik4T",
    "cellView": "form",
    "tags": [
     "hide-input"
    ]
   },
   "source": [
    "# @markdown Execute this cell to download & visualize data\n",
    "!gdown --id  1V2QAdFLQnAb-gdFQ9-Py1AydI7tlTifm\n",
    "\n",
    "d = sio.loadmat('c1p8.mat')\n",
    "\n",
    "spikes = d['rho'].reshape((-1, ))\n",
    "stim = d['stim'].reshape((-1,))\n",
    "dt = 2  # length of each bin in milliseconds\n",
    "\n",
    "fig, axes = plt.subplots(2, 1,figsize = (10, 5), sharex = True)\n",
    "\n",
    "axes[0].plot(stim[:500], 'k')\n",
    "axes[0].set(title = 'Stimulus')\n",
    "\n",
    "axes[1].eventplot(np.where(spikes[:500])[0], color = 'k')\n",
    "axes[1].set(title = 'Spikes', xlabel = 'Time bins')"
   ],
   "execution_count": null,
   "outputs": []
  },
  {
   "cell_type": "markdown",
   "metadata": {
    "id": "RlE7rP1pnLdi"
   },
   "source": [
    "As you can see below, for each time bin (2 ms chunk of time), we have the value of the stimulus and whether a spike occurred or not. The stimulus is denoted by just a single number per time bin.\n",
    "\n",
    "So how do we start to understand what about the stimulus (if any) is causing the neuron to spike? We could simply ask **what on average was the stimulus before a spike**. For example, if a neuron responds to high values of the stimulus, you would expect the stimulus to have on average high values before a spike. This is the idea behind a spike-triggered average!\n",
    "\n",
    "To compute the spike-triggered average, we want to gather the stimulus chunks before each spike, and take the average of them. Let's make that mathematical. Given spike times $t_1$, $t_2$, ..., $t_n$ for $n$ spikes and stimulus $s$:\n",
    "\n",
    "$$STA(\\tau) = \\frac{1}{n}\\sum_{i=1}^n s(t_i - \\tau)$$\n",
    "\n",
    "This tells us that the spike triggered average at some $\\tau$ before a spike is equal to the average of the stimulus at that $\\tau$ before every spike.\n",
    "\n",
    "**STA in terms of time bins:**\n",
    "\n",
    "We often work within the context of time bins, as we saw in our last lecture, so let's reframe the STA in this context, instead of thinking about continuous time. Let's assume we have the spike counts at each time bin as $y_1$, $y_2$, ..., $y_T$ and the stimulus at each time bin as $s_1$, $s_2$, ..., $s_T$ for $T$ time bins. We choose the number of time bins before a spike we want to include in our spike-triggered average - let's say in this case we choose 5 time bins. Then, our equation becomes:\n",
    "\n",
    "$$STA = \\frac{1}{n}\\sum_{i = 0}^T y_i*s_{i - 5:i} $$\n",
    "\n",
    "where $s_{i - 5:i}$ is a vector of the stimulus over the past 5 time bins before i. Note that for all the bins where there are zero spikes, the term $y_i*s_{i - 5:i} $ will be 0 so we could speed up our computation by just focusing on bins where there are spikes.\n",
    "\n",
    "We show the computed STA for our data above in the cell below."
   ]
  },
  {
   "cell_type": "markdown",
   "metadata": {},
   "source": [
    " Execute to visualize STA\n"
   ]
  },
  {
   "cell_type": "code",
   "metadata": {
    "id": "Cz_va76UsL4I",
    "cellView": "form",
    "tags": [
     "hide-input"
    ]
   },
   "source": [
    "# @markdown Execute to visualize STA\n",
    "# Figure out how many time bins we want the STA to be\n",
    "STA_length = 150\n",
    "\n",
    "# Figure out when spikes occur\n",
    "spike_times = np.where(spikes)[0]\n",
    "\n",
    "# Ignore spike times less than STA length (since there won't be enough preceding stimulus)\n",
    "spike_times = spike_times[spike_times > STA_length]\n",
    "\n",
    "# Initialize STA\n",
    "STA = np.zeros((STA_length,))\n",
    "\n",
    "# Loop over spikes\n",
    "for i_sp in spike_times:\n",
    "    \n",
    "    # Add preceding stimulus\n",
    "    STA += stim[i_sp - STA_length + 1: i_sp + 1]\n",
    "\n",
    "# Divide by number of spikes\n",
    "STA = STA / len(spike_times)\n",
    "\n",
    "time_before_spike = (-np.arange(STA_length)*dt)[::-1]\n",
    "\n",
    "fig, ax = plt.subplots(1, 1)\n",
    "\n",
    "ax.plot(time_before_spike, STA, 'k', lw = 2)\n",
    "\n",
    "ax.set(title = 'STA', \n",
    "      xlabel = 'Time before spike (ms)',\n",
    "      ylabel = 'Stimulus intensity');"
   ],
   "execution_count": null,
   "outputs": []
  },
  {
   "cell_type": "markdown",
   "metadata": {
    "id": "WI-T413hpPRI"
   },
   "source": [
    "## Section 2.2: Computing STAs by hand\n",
    "\n",
    "Let's compute a spike-triggered average (STA) with a numerical example. Let's say we have the following stimulus values, where each entry in the vector is the stimulus at a time bin (so the first entry is $s_1$, the second is $s_2$, and so on).\n",
    "\n",
    "$s$ =    [0, 1, 1, 0, 2, -1, 0, 3, 1, 0, -4]\n",
    "\n",
    "We have the following spike counts for the corresponding time bins:\n",
    "\n",
    "$y$ = [0, 0, 0, 1, 0,  1,  0, 1, 0, 0, 0]\n",
    "\n",
    "\n"
   ]
  },
  {
   "cell_type": "markdown",
   "metadata": {
    "id": "PVqsUQtErN1l"
   },
   "source": [
    "```{admonition} **Stop and think!** What is the spike-triggered average? Let's use 3 time bins, including the time bin that the spike occurs.\n",
    ":class: tip, dropdown\n",
    "Our first spike is at time step 4. The previous stimulus is [1, 1, 0]. Remember we're including the time step of the spike, so we are not using [0, 1, 1]. \n\nThe next spike is at time step 6. The previous stimulus is [0, 2, -1].\n\nThe next spike is at time step 8. The previous stimulus is [-1, 0, 3]\n\nSo our spike-triggered stimuli are: [1, 1, 0], [0, 2, -1], and [-1, 0, 3]. \n\nOur STA is the average of those so: [0, 1, 2]."
   ]
  },
  {
   "cell_type": "markdown",
   "metadata": {
    "id": "VjoWDcVIlKUa"
   },
   "source": [
    "## Section 2.3: Computing STAs in code\n",
    "\n",
    "Let's dive into some code that computes a spike-triggered average on our data. `spikes` is an array that gives the sequence of spiking events at the sampled times (every 2 ms). When an element of `spikes` is one, this indicates the presence of a spike at the corresponding time, whereas a zero value indicates no spike. \n",
    "\n",
    "The variable `stim` gives the sequence of stimulus values at the sampled times. \n",
    "\n",
    "We will compute a spike-triggered average that is 300 ms long (the 300 ms before each spike).\n",
    "\n",
    "See the cell below for code to compute a spike triggered average. We dive into more details of the steps in the text below."
   ]
  },
  {
   "cell_type": "code",
   "metadata": {
    "id": "rFURHC6mlLzK"
   },
   "source": [
    "# Step 1) Figure out how many time bins we want the STA to be\n",
    "STA_length = int(300 / 2)\n",
    "\n",
    "# Step 2) Figure out when spikes occur\n",
    "spike_times = np.where(spikes)[0]\n",
    "\n",
    "# Step 3) Ignore spike times less than STA length\n",
    "spike_times = spike_times[spike_times > STA_length]\n",
    "\n",
    "# Step 4) Initialize STA\n",
    "STA = np.zeros((STA_length,))\n",
    "\n",
    "# Step 5) Loop over spikes & add preceding stimulus\n",
    "for i_sp in spike_times:\n",
    "    \n",
    "    # Add preceding stimulus\n",
    "    STA += stim[i_sp - STA_length + 1: i_sp + 1]\n",
    "\n",
    "# Step 6) Divide by number of spikes\n",
    "STA = STA / len(spike_times)\n",
    "\n",
    "# Visualize\n",
    "fig, ax = plt.subplots(1, 1)\n",
    "\n",
    "time_before_spike = (-np.arange(STA_length)*dt)[::-1]\n",
    "ax.plot(time_before_spike, STA, 'k', lw = 2)\n",
    "\n",
    "ax.set(title = 'STA', \n",
    "      xlabel = 'Time before spike (ms)',\n",
    "      ylabel = 'Stimulus intensity');"
   ],
   "execution_count": null,
   "outputs": []
  },
  {
   "cell_type": "markdown",
   "metadata": {
    "id": "Fymc3AhX2jTq"
   },
   "source": [
    "Step 1) We first figure out how many time bins we want the STA to be - if we want it to be 300 ms and each bin is 2 ms/bin, we we want 300 ms / 2 ms/bin = 150 bins long. \n",
    "\n",
    "Step 2) We then find the bins where spikes occur. We can use `np.where` to get the indices of the entries in `spikes` that are non-zero. Our maximum spike count in `spikes` is 1 so we don't have to worry about time bins having more than one spike (although we sometimes would!).\n",
    "\n",
    "Step 3) We will just ignore spike times that occur really early in our data, as there is not a long enough preceding stimulus to use for our averaging. \n",
    "\n",
    "Step 4) We want to initialize our STA so we can add stimulus chunks to it iteratively. We create a vector of zeros the correct length.\n",
    "\n",
    "Step 5) We loop over spike times. For each spike time, we take the preceding 150 time bins of the stimulus using `stim[i_sp - STA_length -1: i_sp + 1]` and add it to the STA. The -1 and +1 is so we include the time bin of the spike.\n",
    "\n",
    "Step 6) We have summed over the stimuli before spikes but we want to average, so we need to divide by the number of spikes."
   ]
  },
  {
   "cell_type": "markdown",
   "metadata": {
    "id": "X5JgI2YvlMLT"
   },
   "source": [
    "# Section 3: STAs for higher-dimensional stimuli\n",
    "\n",
    "So far, we have only looked at computing STAs for a 1d stimulus over time. In other words, a stimulus that has only one data point per time bin. We can compute an STA for a stimulus for any number of dimensions. For example, let's say the stimulus is a movie. Instead of looking at the average number that triggered a spike at certain delays before a spike (as in the case of the 1d stimulus), we want to look at the average image that triggered a spike at various time bins before the spike. So we want the average image 1 time step back, the average image 2 time steps back, and so on. This idea is conveyed in the image below. We'd end up with a spike triggered average of shape (number of time bins of STA x number of pixels x number of pixels)."
   ]
  },
  {
   "cell_type": "markdown",
   "metadata": {
    "id": "NXVeKfZiV0_i"
   },
   "source": [
    "<img src=\"https://upload.wikimedia.org/wikipedia/commons/thumb/2/2c/Illustration_diagram_for_the_Spike-triggered_average.pdf/page1-1335px-Illustration_diagram_for_the_Spike-triggered_average.pdf.jpg\" alt=\"STA from movie\">\n",
    "\n",
    "*Spike triggered average with a movie stimulus from https://upload.wikimedia.org/wikipedia/commons/2/2c/Illustration_diagram_for_the_Spike-triggered_average.pdf*"
   ]
  },
  {
   "cell_type": "markdown",
   "metadata": {
    "id": "PV9z7neBWqOM"
   },
   "source": [
    "We may have stimuli that aren't images but have more than 1 dimension. We'd treat these similar to the movie, where we average over each feature (or dimension) separately. So if our stimulus is represented by 3 numbers per time bin, we would get an STA of shape (number of time bins x 3)."
   ]
  },
  {
   "cell_type": "markdown",
   "metadata": {
    "id": "jXq2dKF74ehN"
   },
   "source": [
    "# Section 4: Interpreting STAs"
   ]
  },
  {
   "cell_type": "markdown",
   "metadata": {
    "id": "-CT2K1EwlGlA"
   },
   "source": [
    "## Section 4.1: STAs ~ receptive fields\n",
    "The spike-triggered average tells us what about the stimulus leads the neuron to respond, allowing us to interpret something about neural processing. In other words, the STA provides an estimate of a neuron's linear receptive field. For example, look atLet's take another look at our STA from our example data."
   ]
  },
  {
   "cell_type": "markdown",
   "metadata": {},
   "source": [
    " Execute to visualize STA\n"
   ]
  },
  {
   "cell_type": "code",
   "metadata": {
    "cellView": "form",
    "id": "TrkZPyVrlJ4U",
    "tags": [
     "hide-input"
    ]
   },
   "source": [
    "# @markdown Execute to visualize STA\n",
    "# Figure out how many time bins we want the STA to be\n",
    "STA_length = 150\n",
    "\n",
    "# Figure out when spikes occur\n",
    "spike_times = np.where(spikes)[0]\n",
    "\n",
    "# Ignore spike times less than STA length (since there won't be enough preceding stimulus)\n",
    "spike_times = spike_times[spike_times > STA_length]\n",
    "\n",
    "# Initialize STA\n",
    "STA = np.zeros((STA_length,))\n",
    "\n",
    "# Loop over spikes\n",
    "for i_sp in spike_times:\n",
    "    \n",
    "    # Add preceding stimulus\n",
    "    STA += stim[i_sp - STA_length: i_sp]\n",
    "\n",
    "# Divide by number of spikes\n",
    "STA = STA / len(spike_times)\n",
    "\n",
    "time_before_spike = (-np.arange(STA_length)*dt)[::-1]\n",
    "\n",
    "fig, ax = plt.subplots(1, 1)\n",
    "\n",
    "ax.plot(time_before_spike, STA, 'k', lw = 2)\n",
    "\n",
    "ax.set(title = 'STA', \n",
    "      xlabel = 'Time before spike (ms)',\n",
    "      ylabel = 'Stimulus intensity');"
   ],
   "execution_count": null,
   "outputs": []
  },
  {
   "cell_type": "markdown",
   "metadata": {
    "id": "d9_S6nzmsoTX"
   },
   "source": [
    "```{admonition} **Stop and think!** What can you interpret about this fly H1 neuron response to the visual motion stimulus from the STA?\n",
    ":class: tip, dropdown\n",
    "High values of the stimulus tend to prompt a neural spike around 50 milliseconds later."
   ]
  },
  {
   "cell_type": "markdown",
   "metadata": {},
   "source": [
    " Execute to visualize another STA\n"
   ]
  },
  {
   "cell_type": "code",
   "metadata": {
    "cellView": "form",
    "id": "eAxoZTxouFxp",
    "tags": [
     "hide-input"
    ]
   },
   "source": [
    "# @markdown Execute to visualize another STA\n",
    "time_before_spike = (-np.arange(STA_length)*dt)[::-1]\n",
    "\n",
    "fig, ax = plt.subplots(1, 1)\n",
    "\n",
    "ax.plot(time_before_spike, np.zeros((len(time_before_spike),)), 'k', lw = 2)\n",
    "\n",
    "ax.set(title = 'STA', \n",
    "      xlabel = 'Time before spike (ms)',\n",
    "      ylabel = 'Stimulus intensity');"
   ],
   "execution_count": null,
   "outputs": []
  },
  {
   "cell_type": "markdown",
   "metadata": {
    "id": "qLk5qqtyt6kg"
   },
   "source": [
    "```{admonition} **Stop and think!** If you saw a completely flat STA, as above, what would you guess about the neuron?\n",
    ":class: tip, dropdown\n",
    "You could hypothesis that the neural response doesn't depend on the stimulus/isn't affected by it. You might see this if you are recording from an auditory neuron and trying to relate to a visual stimulus for example! This may not be true, the neural response may depend on the stimulus in a way that's more complex than an STA can capture."
   ]
  },
  {
   "cell_type": "markdown",
   "metadata": {
    "id": "ueyMMxH00P-D"
   },
   "source": [
    "```{admonition} **Stop and think!** Why do we use the prior stimulus before a spike to compute the STA? Why not also use the stimulus after a spike?\n",
    ":class: tip, dropdown\n",
    "A neuron could not respond based on a future stimulus that it hasn't seen yet. If we were looking at a behavioral variable, it could be useful to look at the spike-triggered average in the past and future as neurons could be firing in advance of some behavior. However, behavior doesn't usually fulfil the input requirements for useful spike-triggered averages (detailed in next section)."
   ]
  },
  {
   "cell_type": "markdown",
   "metadata": {
    "id": "cDAPUxoztwSb"
   },
   "source": [
    "## Section 4.2: Stimulus requirements"
   ]
  },
  {
   "cell_type": "markdown",
   "metadata": {
    "id": "U0ysrD4Atn39"
   },
   "source": [
    "The spike-triggered average is only meaningful to compute and interpret for certain types of stimuli. Specifically, for uncorrelated stimuli, where the values of the stimulus **independent and identially distributed** at each time bin. In other words, the value of the stimulus at a certain time should not depend on the values of the stimulus before or after and should be drawn at random from a probability distribution (the same distribution should be used for all time bins). **White noise stimuli** fulfill these requirements.\n",
    "\n",
    "So, why can't we interpret spike-triggered averages with correlated stimuli? Imagine we had a repeating stimulus, as below. We presented this to the fly H1 neuron we've been working with and record the spikes. Please note, the data below is faked.\n",
    "\n"
   ]
  },
  {
   "cell_type": "markdown",
   "metadata": {},
   "source": [
    " Execute cell to visualize correlated stimulus and simulated responses\n"
   ]
  },
  {
   "cell_type": "code",
   "metadata": {
    "cellView": "form",
    "id": "wPqXD8PNaenE",
    "tags": [
     "hide-input"
    ]
   },
   "source": [
    "# @markdown Execute cell to visualize correlated stimulus and simulated responses\n",
    "\n",
    "# Create repeating stimulus\n",
    "stim_segment = -STA[::-1] + STA\n",
    "corr_stim = np.tile(stim_segment, int(stim.shape[0]/stim_segment.shape[0]))\n",
    "\n",
    "# Create model for fake spikes\n",
    "STA_stim = np.zeros((stim.shape[0],))\n",
    "for i_t in range(150, stim.shape[0]):\n",
    "    STA_stim[i_t] = np.dot(stim[i_t - STA_length + 1: i_t + 1], STA)\n",
    "\n",
    "bins = np.linspace(np.min(STA_stim), np.max(STA_stim), 25)\n",
    "\n",
    "all_stim_bins, _ = np.histogram(STA_stim, bins)\n",
    "spike_stim_bins, _ = np.histogram(STA_stim[spike_times], bins)\n",
    "nonlin = spike_stim_bins/all_stim_bins\n",
    "\n",
    "# Create fake spikes\n",
    "STA_stim = np.zeros((stim.shape[0],))\n",
    "sim_spikes = np.zeros((stim.shape[0],))\n",
    "all_nonlin = np.zeros((stim.shape[0],))\n",
    "\n",
    "for i_t in range(150, stim.shape[0]):\n",
    "    STA_stim[i_t] = np.dot(corr_stim[i_t - STA_length + 1: i_t + 1], STA)\n",
    "    if STA_stim[i_t] < bins[0]:\n",
    "        this_nonlin = nonlin[0]\n",
    "    elif STA_stim[i_t] > bins[-1]:\n",
    "      this_nonlin = nonlin[-1]\n",
    "    else:\n",
    "      nonlin_bin, _ = np.histogram(STA_stim[i_t], bins)\n",
    "      this_nonlin = nonlin[np.where(nonlin_bin)[0]]\n",
    "\n",
    "    all_nonlin[i_t] = this_nonlin\n",
    "    sim_spikes[i_t] = np.random.poisson(this_nonlin)\n",
    "\n",
    "# Visualize\n",
    "fig, axes = plt.subplots(2, 1,figsize = (10, 5), sharex = True)\n",
    "\n",
    "axes[0].plot(corr_stim[:1500], 'k')\n",
    "axes[0].set(title = 'Stimulus')\n",
    "\n",
    "axes[1].eventplot(np.where(sim_spikes[:1500])[0], color = 'k')\n",
    "axes[1].set(title = 'Spikes', xlabel = 'Time bins');"
   ],
   "execution_count": null,
   "outputs": []
  },
  {
   "cell_type": "markdown",
   "metadata": {
    "id": "z09auaIUiciA"
   },
   "source": [
    "The neuron always spikes around the same point in the pattern. This means that when we average over the stimuli before the spikes, we get unwanted structure in our STA. See the STA computed in the cell below. As we've seen, the neuron responds to high stimulus values about 50 ms before the spike. Because of the repeating nature of the stimulus, it looks from this STA like the neuron responds to negative values of the stimulus around .. before the spike, which is incorrect! In essence, the correlated nature of the stimulus has meant we haven't explored enough stimulus patterns to get a good sense of the neural dependency on the stimulus. This is an especially egregious case of a correlated stimulus - we have repeating chunks - but any amount of correlation can interfere with our ability to estimate the linear receptive field with a linear filter well!"
   ]
  },
  {
   "cell_type": "markdown",
   "metadata": {},
   "source": [
    " Execute to visualize STA computed from correlated stimulus\n"
   ]
  },
  {
   "cell_type": "code",
   "metadata": {
    "cellView": "form",
    "id": "oLrA2Uj4cedr",
    "tags": [
     "hide-input"
    ]
   },
   "source": [
    "# @markdown Execute to visualize STA computed from correlated stimulus\n",
    "\n",
    "# Step 1) Figure out how many time bins we want the STA to be\n",
    "STA_length = int(300 / 2)\n",
    "\n",
    "# Step 2) Figure out when spikes occur\n",
    "spike_times = np.where(sim_spikes)[0]\n",
    "\n",
    "# Step 3) Ignore spike times less than STA length\n",
    "spike_times = spike_times[spike_times > STA_length]\n",
    "\n",
    "# Step 4) Initialize STA\n",
    "sim_STA = np.zeros((STA_length,))\n",
    "\n",
    "# Step 5) Loop over spikes & add preceding stimulus\n",
    "for i_sp in spike_times:\n",
    "    \n",
    "    # Add preceding stimulus\n",
    "    sim_STA += corr_stim[i_sp - STA_length + 1: i_sp + 1]\n",
    "\n",
    "# Step 6) Divide by number of spikes\n",
    "sim_STA = sim_STA / len(spike_times)\n",
    "\n",
    "\n",
    "fig, ax = plt.subplots(1, 1, figsize = (10, 7))\n",
    "ax.plot(time_before_spike, sim_STA, 'k', lw = 2)\n",
    "\n",
    "ax.set(title = 'STA', \n",
    "      xlabel = 'Time before spike (ms)',\n",
    "      ylabel = 'Stimulus intensity');"
   ],
   "execution_count": null,
   "outputs": []
  },
  {
   "cell_type": "markdown",
   "metadata": {
    "id": "PZ8r6tFt7xtb"
   },
   "source": [
    "# Optional Reading\n",
    "\n",
    "Dayan & Abbott cover spike triggered averages in Chapter 1: http://www.gatsby.ucl.ac.uk/~lmate/biblio/dayanabbott.pdf\n",
    "\n",
    "More advanced than we go, but a very thorough review of spike-triggered neural characterization: https://jov.arvojournals.org/article.aspx?articleid=2192881"
   ]
  }
 ]
}